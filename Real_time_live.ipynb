#Face Detection through WebCam



{
  "nbformat": 4,
  "nbformat_minor": 0,
  "metadata": {
    "colab": {
      "provenance": [],
      "authorship_tag": "ABX9TyOEAJdOAMm1z+DLr6G5bz8z",
      "include_colab_link": true
    },
    "kernelspec": {
      "name": "python3",
      "display_name": "Python 3"
    },
    "language_info": {
      "name": "python"
    }
  },
  "cells": [
    {
      "cell_type": "markdown",
      "metadata": {
        "id": "view-in-github",
        "colab_type": "text"
      },
      "source": [
        "<a href=\"https://colab.research.google.com/github/sfansaria/Face-Detection/blob/main/Real_time_live.ipynb\" target=\"_parent\"><img src=\"https://colab.research.google.com/assets/colab-badge.svg\" alt=\"Open In Colab\"/></a>"
      ]
    },
    {
      "cell_type": "code",
      "source": [
        "from google.colab import drive\n",
        "drive.mount('/content/drive')"
      ],
      "metadata": {
        "colab": {
          "base_uri": "https://localhost:8080/"
        },
        "id": "zm6hJzcThekV",
        "outputId": "08a439c8-9e01-4bd9-f759-87e2e45184fb"
      },
      "execution_count": 23,
      "outputs": [
        {
          "output_type": "stream",
          "name": "stdout",
          "text": [
            "Drive already mounted at /content/drive; to attempt to forcibly remount, call drive.mount(\"/content/drive\", force_remount=True).\n"
          ]
        }
      ]
    },
    {
      "cell_type": "code",
      "execution_count": 24,
      "metadata": {
        "id": "7d1IkXqoUw5v"
      },
      "outputs": [],
      "source": [
        "import cv2\n",
        "import os\n",
        "\n",
        "from google.colab.patches import cv2_imshow\n",
        "import matplotlib.pyplot as plt\n",
        "\n"
      ]
    },
    {
      "cell_type": "code",
      "source": [
        "cap = cv2.VideoCapture(0)\n",
        "\n",
        "#create the haar cascade\n",
        "face_cascade = cv2.CascadeClassifier( os.path.join(cv2.data.haarcascades, 'haarcascade_frontalface_default.xml') )\n"
      ],
      "metadata": {
        "id": "kYT1iWtOh9ba"
      },
      "execution_count": 25,
      "outputs": []
    },
    {
      "cell_type": "code",
      "source": [
        "while (True):\n",
        "  #Capture frame-by-frame\n",
        "  ret, frame = cap.read()\n",
        "  if ret == False:   #Because when it comes to the final frame of the video, then there will be no frame for\n",
        "          break\n",
        "  #operations on the frame comes here\n",
        "  gray = cv2.cvtColor(frame, cv2.COLOR_BGR2GRAY)\n",
        "\n",
        "  #Detect faces in the image\n",
        "  faces = face_cascade.detectMultiScale(gray,scaleFactor=1.3,minNeighbors=5,minSize=(30, 30))\n",
        "  #flags=cv2.CV_HAAR_SCALE_IMAGE\n",
        "\n",
        "  print(\"Found {0} faces!\".format(len(faces)))\n",
        "\n",
        "  #Draw a rectangle around the faces\n",
        "\n",
        "  for (x, y, w, h) in faces:\n",
        "          cv2.rectangle(frame, (x, y), (x+w, y+h), (0, 255, 0), 2)\n",
        "\n",
        "  #Display the resulting frame\n",
        "  cv2.imshow('frame', frame)\n",
        "  if cv2.waitKey(1) & 0xFF == ord('q'):\n",
        "           break\n",
        "\n",
        "#When everything done, release the capture\n",
        "\n",
        "cap.release()\n",
        "cv2.destroyAllWindows()\n"
      ],
      "metadata": {
        "id": "TMCBnVXUiWAR"
      },
      "execution_count": 26,
      "outputs": []
    }
  ]
}
